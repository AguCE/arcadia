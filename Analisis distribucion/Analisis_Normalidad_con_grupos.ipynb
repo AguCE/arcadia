{
 "cells": [
  {
   "cell_type": "markdown",
   "metadata": {},
   "source": [
    "# Determinación normalidad de una muestra con grupos"
   ]
  },
  {
   "cell_type": "markdown",
   "metadata": {},
   "source": [
    "## 0.Preparación librerias y definición de fórmulas"
   ]
  },
  {
   "cell_type": "code",
   "execution_count": 1,
   "metadata": {},
   "outputs": [],
   "source": [
    "#Importación de librerias\n",
    "\n",
    "import pandas as pd\n",
    "import seaborn as sns\n",
    "import numpy as np\n",
    "import matplotlib.pyplot as plt\n",
    "from sklearn.linear_model import LinearRegression\n",
    "from scipy import stats\n",
    "from statsmodels.stats.diagnostic import normal_ad\n",
    "from scipy.stats import shapiro"
   ]
  },
  {
   "cell_type": "code",
   "execution_count": 12,
   "metadata": {},
   "outputs": [],
   "source": [
    "#Definición calculo de residuos\n",
    "\n",
    "def res(group):\n",
    "    \"\"\"\n",
    "    Calculate residual for a grup\n",
    "    \"\"\"\n",
    "    resgroup =group.iloc[:,0]-group.iloc[:,0].mean()\n",
    "    df_res=pd.DataFrame(resgroup)\n",
    "    return df_res"
   ]
  },
  {
   "cell_type": "code",
   "execution_count": 91,
   "metadata": {},
   "outputs": [],
   "source": [
    "#Definición de la hipotesis de normalidad \n",
    "def group_errors_assumption(df,group, p_value_thresh):\n",
    "    \"\"\"\n",
    "    Normality: Assumes that the error terms are normally distributed. If they are not,\n",
    "    nonlinear transformations of variables may solve this.\n",
    "               \n",
    "    This assumption being violated primarily causes issues with the confidence intervals\n",
    "    \"\"\"\n",
    "    \n",
    "    print('Assumption: The error terms are normally distributed', '\\n')\n",
    "    \n",
    "    #Choosing the group\n",
    "    dfgroup=df[df.iloc[:,1]==group]\n",
    "    label=dfgroup.columns[1]\n",
    "    print('------------------',label,':',group,'------------------','\\n')\n",
    "    # Calculating residuals for the Anderson-Darling test\n",
    "    df_results = res(dfgroup)\n",
    "    \n",
    "    print('Using the Anderson-Darling test for normal distribution')\n",
    "\n",
    "    # Performing the test on the residuals\n",
    "    p_value = normal_ad(df_results.iloc[:,0])[1]\n",
    "    print('p-value from the test - below 0.05 generally means non-normal:', p_value)\n",
    "    \n",
    "    # Reporting the normality of the residuals\n",
    "    if p_value < p_value_thresh:\n",
    "        print('Residuals are not normally distributed', '\\n')\n",
    "    else:\n",
    "        print('Residuals are normally distributed', '\\n')\n",
    "    \n",
    "    print('Using the Shapiro-Wilks test for normal distribution')\n",
    "    shapiro_test = shapiro(df_results.iloc[:,0])\n",
    "    shapiro_test_stat=shapiro_test[0]\n",
    "    shapiro_test_pvalue=shapiro_test[1]\n",
    "    print('p-value from the test - below 0.05 generally means non-normal:', shapiro_test_pvalue)\n",
    "    \n",
    "    # Reporting the normality of the residuals\n",
    "    if shapiro_test_pvalue < p_value_thresh:\n",
    "        print('Residuals are not normally distributed')\n",
    "    else:\n",
    "        print('Residuals are normally distributed')\n",
    "\n",
    "    # Plotting the residuals distribution\n",
    "    plt.subplots(figsize=(12, 6))\n",
    "    plt.title('Distribution of Residuals for: '+ label + ' '+  str(group))\n",
    "    sns.distplot(df_results.iloc[:,0])\n",
    "    plt.show()\n",
    "    \n",
    "    print()\n",
    "    if p_value > p_value_thresh:\n",
    "        print('Assumption satisfied')\n",
    "    else:\n",
    "        print('Assumption not satisfied')\n",
    "        print()\n",
    "        print('Confidence intervals will likely be affected')\n",
    "        print('Try performing nonlinear transformations on variables')"
   ]
  },
  {
   "cell_type": "markdown",
   "metadata": {},
   "source": [
    "## 1.Preanalisis de los datos"
   ]
  },
  {
   "cell_type": "code",
   "execution_count": 3,
   "metadata": {},
   "outputs": [],
   "source": [
    "file = './datos/iq.csv'"
   ]
  },
  {
   "cell_type": "code",
   "execution_count": 43,
   "metadata": {},
   "outputs": [],
   "source": [
    "# Carga de datos\n",
    "df_data=pd.read_csv(file)"
   ]
  },
  {
   "cell_type": "code",
   "execution_count": 44,
   "metadata": {},
   "outputs": [
    {
     "name": "stdout",
     "output_type": "stream",
     "text": [
      "---Info---\n",
      "<class 'pandas.core.frame.DataFrame'>\n",
      "RangeIndex: 40 entries, 0 to 39\n",
      "Data columns (total 2 columns):\n",
      "IQ        40 non-null float64\n",
      "School    40 non-null float64\n",
      "dtypes: float64(2)\n",
      "memory usage: 720.0 bytes\n",
      "\n",
      " ---Cinco primeros registros---\n",
      "      IQ  School\n",
      "0  147.0     2.0\n",
      "1  140.0     2.0\n",
      "2  141.0     1.0\n",
      "3  141.0     1.0\n",
      "4  142.0     2.0 \n",
      "\n",
      "\n",
      " ---Scatter plot---\n"
     ]
    },
    {
     "data": {
      "text/plain": [
       "<matplotlib.collections.PathCollection at 0x1b73f51e6d8>"
      ]
     },
     "execution_count": 44,
     "metadata": {},
     "output_type": "execute_result"
    },
    {
     "data": {
      "image/png": "[encoded data removed]",
      "text/plain": [
       "<Figure size 432x288 with 1 Axes>"
      ]
     },
     "metadata": {
      "needs_background": "light"
     },
     "output_type": "display_data"
    }
   ],
   "source": [
    "#Forma del dataframe\n",
    "print('---Info---')\n",
    "df_data.info()\n",
    "\n",
    "#Impresion 5 primeras filas\n",
    "print('\\n','---Cinco primeros registros---')\n",
    "print(df.head(),'\\n')\n",
    "print('\\n','---Scatter plot---')\n",
    "plt.scatter(df.iloc[:,0], df.iloc[:,1])"
   ]
  },
  {
   "cell_type": "markdown",
   "metadata": {},
   "source": [
    "## 2. Comprobación de la normalidad"
   ]
  },
  {
   "cell_type": "markdown",
   "metadata": {},
   "source": [
    "### Determinación de los grupo"
   ]
  },
  {
   "cell_type": "code",
   "execution_count": 7,
   "metadata": {},
   "outputs": [],
   "source": [
    "group1=df[df.iloc[:,1]==1.0]\n",
    "group2=df[df.iloc[:,1]==2.0]\n"
   ]
  },
  {
   "cell_type": "code",
   "execution_count": 14,
   "metadata": {},
   "outputs": [],
   "source": [
    "res1 = res(group1)\n",
    "res2 = res(group2)"
   ]
  },
  {
   "cell_type": "code",
   "execution_count": 92,
   "metadata": {},
   "outputs": [
    {
     "name": "stdout",
     "output_type": "stream",
     "text": [
      "Assumption: The error terms are normally distributed \n",
      "\n",
      "------------------ School : 1 ------------------ \n",
      "\n",
      "Using the Anderson-Darling test for normal distribution\n",
      "p-value from the test - below 0.05 generally means non-normal: 0.00031705273647239117\n",
      "Residuals are not normally distributed \n",
      "\n",
      "Using the Shapiro-Wilks test for normal distribution\n",
      "p-value from the test - below 0.05 generally means non-normal: 0.0009394694934599102\n",
      "Residuals are not normally distributed\n"
     ]
    },
    {
     "data": {
      "image/png": "[encoded data removed]",
      "text/plain": [
       "<Figure size 864x432 with 1 Axes>"
      ]
     },
     "metadata": {
      "needs_background": "light"
     },
     "output_type": "display_data"
    },
    {
     "name": "stdout",
     "output_type": "stream",
     "text": [
      "\n",
      "Assumption not satisfied\n",
      "\n",
      "Confidence intervals will likely be affected\n",
      "Try performing nonlinear transformations on variables\n"
     ]
    }
   ],
   "source": [
    "group_errors_assumption(df_data,1,0.05)"
   ]
  },
  {
   "cell_type": "code",
   "execution_count": 93,
   "metadata": {},
   "outputs": [
    {
     "name": "stdout",
     "output_type": "stream",
     "text": [
      "Assumption: The error terms are normally distributed \n",
      "\n",
      "------------------ School : 2 ------------------ \n",
      "\n",
      "Using the Anderson-Darling test for normal distribution\n",
      "p-value from the test - below 0.05 generally means non-normal: 0.01668376405845095\n",
      "Residuals are not normally distributed \n",
      "\n",
      "Using the Shapiro-Wilks test for normal distribution\n",
      "p-value from the test - below 0.05 generally means non-normal: 0.0037091043777763844\n",
      "Residuals are not normally distributed\n"
     ]
    },
    {
     "data": {
      "image/png": "[encoded data removed]",
      "text/plain": [
       "<Figure size 864x432 with 1 Axes>"
      ]
     },
     "metadata": {
      "needs_background": "light"
     },
     "output_type": "display_data"
    },
    {
     "name": "stdout",
     "output_type": "stream",
     "text": [
      "\n",
      "Assumption not satisfied\n",
      "\n",
      "Confidence intervals will likely be affected\n",
      "Try performing nonlinear transformations on variables\n"
     ]
    }
   ],
   "source": [
    "group_errors_assumption(df_data,2,0.05)"
   ]
  },
  {
   "cell_type": "code",
   "execution_count": null,
   "metadata": {},
   "outputs": [],
   "source": []
  }
 ],
 "metadata": {
  "kernelspec": {
   "display_name": "Python 3",
   "language": "python",
   "name": "python3"
  },
  "language_info": {
   "codemirror_mode": {
    "name": "ipython",
    "version": 3
   },
   "file_extension": ".py",
   "mimetype": "text/x-python",
   "name": "python",
   "nbconvert_exporter": "python",
   "pygments_lexer": "ipython3",
   "version": "3.7.1"
  }
 },
 "nbformat": 4,
 "nbformat_minor": 2
}
