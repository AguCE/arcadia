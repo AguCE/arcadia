{
 "cells": [
  {
   "cell_type": "markdown",
   "metadata": {},
   "source": [
    "# Comprobación Homocedasticidad\n",
    "### Prueba de Levene"
   ]
  },
  {
   "cell_type": "markdown",
   "metadata": {},
   "source": [
    "## 0.Preparación librerias y definición de fórmulas"
   ]
  },
  {
   "cell_type": "code",
   "execution_count": 1,
   "metadata": {},
   "outputs": [],
   "source": [
    "#Importación de librerias\n",
    "import pandas as pd\n",
    "import seaborn as sns\n",
    "import numpy as np\n",
    "import matplotlib.pyplot as plt\n",
    "from scipy import stats\n",
    "from scipy.stats import levene"
   ]
  },
  {
   "cell_type": "code",
   "execution_count": 77,
   "metadata": {},
   "outputs": [],
   "source": [
    "#Definición de los grupos\n",
    "\n",
    "def group(value, variable):\n",
    "    dfgroup = df_data[df_data.position==value].iloc[:,variable]\n",
    "    return dfgroup\n",
    "\n",
    "#Comprobación de Ho\n",
    "\n",
    "def checkho(p_value_thresh, p_value):\n",
    "    print(\"Para un p_value=\",p_value)\n",
    "    if p_value < p_value_thresh:\n",
    "        print('Se rechaza la hipótesis nula, no podemos asumir igualdad de varianzas')\n",
    "    else:\n",
    "        print('Se acepta la hipótesis nula, podemos asumir igualdad de varianzas')"
   ]
  },
  {
   "cell_type": "markdown",
   "metadata": {},
   "source": [
    "## 1.Preanalisis de los datos"
   ]
  },
  {
   "cell_type": "code",
   "execution_count": 7,
   "metadata": {},
   "outputs": [],
   "source": [
    "file = './Datos/homogeneidad3grupos.csv'"
   ]
  },
  {
   "cell_type": "code",
   "execution_count": 8,
   "metadata": {},
   "outputs": [],
   "source": [
    "# Carga de datos\n",
    "df_data=pd.read_csv(file)"
   ]
  },
  {
   "cell_type": "code",
   "execution_count": 24,
   "metadata": {},
   "outputs": [
    {
     "name": "stdout",
     "output_type": "stream",
     "text": [
      "---Info---\n",
      "<class 'pandas.core.frame.DataFrame'>\n",
      "RangeIndex: 27 entries, 0 to 26\n",
      "Data columns (total 2 columns):\n",
      "salary      27 non-null float64\n",
      "position    27 non-null float64\n",
      "dtypes: float64(2)\n",
      "memory usage: 512.0 bytes\n",
      "\n",
      " ---Cinco primeros registros---\n",
      "    salary  position\n",
      "0  57727.0       2.0\n",
      "1  39907.0       1.0\n",
      "2  46659.0       2.0\n",
      "3  40233.0       1.0\n",
      "4  42198.0       1.0 \n",
      "\n",
      "\n",
      " ---Scatter plot---\n"
     ]
    },
    {
     "data": {
      "text/plain": [
       "<matplotlib.collections.PathCollection at 0x1c64e441518>"
      ]
     },
     "execution_count": 24,
     "metadata": {},
     "output_type": "execute_result"
    },
    {
     "data": {
      "image/png": "[encoded data removed]",
      "text/plain": [
       "<Figure size 432x288 with 1 Axes>"
      ]
     },
     "metadata": {
      "needs_background": "light"
     },
     "output_type": "display_data"
    }
   ],
   "source": [
    "#Forma del dataframe\n",
    "print('---Info---')\n",
    "df_data.info()\n",
    "\n",
    "#Impresion 5 primeras filas\n",
    "print('\\n','---Cinco primeros registros---')\n",
    "print(df_data.head(),'\\n')\n",
    "print('\\n','---Scatter plot---')\n",
    "plt.scatter(df_data.iloc[:,0], df_data.iloc[:,1])"
   ]
  },
  {
   "cell_type": "markdown",
   "metadata": {},
   "source": [
    "## 2. Comprobación de la homocedasticidad"
   ]
  },
  {
   "cell_type": "code",
   "execution_count": 78,
   "metadata": {},
   "outputs": [
    {
     "name": "stdout",
     "output_type": "stream",
     "text": [
      "Para un p_value= 0.004882383651530197\n",
      "Se rechaza la hipótesis nula, no podemos asumir igualdad de varianzas\n"
     ]
    }
   ],
   "source": [
    "a=group(1,0)\n",
    "b=group(2,0)\n",
    "c=group(3,0)\n",
    "\n",
    "stat_mean, p_value = levene(a, b, c, center='mean')\n",
    "checkho(0.05, p_value)\n"
   ]
  },
  {
   "cell_type": "code",
   "execution_count": null,
   "metadata": {},
   "outputs": [],
   "source": []
  }
 ],
 "metadata": {
  "kernelspec": {
   "display_name": "Python 3",
   "language": "python",
   "name": "python3"
  },
  "language_info": {
   "codemirror_mode": {
    "name": "ipython",
    "version": 3
   },
   "file_extension": ".py",
   "mimetype": "text/x-python",
   "name": "python",
   "nbconvert_exporter": "python",
   "pygments_lexer": "ipython3",
   "version": "3.7.1"
  }
 },
 "nbformat": 4,
 "nbformat_minor": 2
}
