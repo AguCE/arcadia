{
 "cells": [
  {
   "cell_type": "markdown",
   "metadata": {},
   "source": [
    "# Prueba de Mann-Whitney\n",
    "\n",
    "## Objeto\n",
    "Comprobar si hay diferencias significativas entre **dos grupos**.\n",
    "Restricciones:\n",
    "* La distribución es **NO paramétrica**\n",
    "* Los grupos son **independientes**\n",
    "* Los datos son ordinales o coninuos\n",
    "\n",
    "Ho: No hay diferencia significativa;\n",
    "\n",
    "H1: Hay diferencia\n",
    "\n",
    "<a href=\"https://docs.scipy.org/doc/scipy/reference/generated/scipy.stats.mannwhitneyu.html\">Scypy Mannwhitneyu</a>"
   ]
  },
  {
   "cell_type": "markdown",
   "metadata": {},
   "source": [
    "## 0.Preparación librerias y definición de fórmulas# "
   ]
  },
  {
   "cell_type": "code",
   "execution_count": 1,
   "metadata": {},
   "outputs": [],
   "source": [
    "import pandas as pd\n",
    "import matplotlib.pyplot as plt\n",
    "import seaborn as sns\n",
    "from scipy import stats\n",
    "from scipy.stats import mannwhitneyu\n",
    "from statsmodels.stats.diagnostic import normal_ad\n",
    "from scipy.stats import shapiro"
   ]
  },
  {
   "cell_type": "code",
   "execution_count": 27,
   "metadata": {},
   "outputs": [],
   "source": [
    "#Comprobación de Ho\n",
    "\n",
    "def checkho(p_value_thresh, p_value):\n",
    "    print(\"Para un p_value=\",p_value)\n",
    "    if p_value < p_value_thresh:\n",
    "        print('Se rechaza la hipótesis nula, podemos asumir diferencias significativas')\n",
    "    else:\n",
    "        print('Se acepta la hipótesis nula, no podemos asumir diferencias significativas')"
   ]
  },
  {
   "cell_type": "markdown",
   "metadata": {},
   "source": [
    "## 1.Preanalisis de los datos\n"
   ]
  },
  {
   "cell_type": "code",
   "execution_count": 2,
   "metadata": {},
   "outputs": [],
   "source": [
    "file = './Datos/homogeneidad3grupos.csv'"
   ]
  },
  {
   "cell_type": "code",
   "execution_count": 3,
   "metadata": {},
   "outputs": [],
   "source": [
    "# Carga de datos\n",
    "df_data=pd.read_csv(file)"
   ]
  },
  {
   "cell_type": "code",
   "execution_count": 6,
   "metadata": {},
   "outputs": [
    {
     "data": {
      "text/html": [
       "<div>\n",
       "<style scoped>\n",
       "    .dataframe tbody tr th:only-of-type {\n",
       "        vertical-align: middle;\n",
       "    }\n",
       "\n",
       "    .dataframe tbody tr th {\n",
       "        vertical-align: top;\n",
       "    }\n",
       "\n",
       "    .dataframe thead th {\n",
       "        text-align: right;\n",
       "    }\n",
       "</style>\n",
       "<table border=\"1\" class=\"dataframe\">\n",
       "  <thead>\n",
       "    <tr style=\"text-align: right;\">\n",
       "      <th></th>\n",
       "      <th>salary</th>\n",
       "      <th>position</th>\n",
       "    </tr>\n",
       "  </thead>\n",
       "  <tbody>\n",
       "    <tr>\n",
       "      <th>0</th>\n",
       "      <td>57727.0</td>\n",
       "      <td>2.0</td>\n",
       "    </tr>\n",
       "    <tr>\n",
       "      <th>1</th>\n",
       "      <td>39907.0</td>\n",
       "      <td>1.0</td>\n",
       "    </tr>\n",
       "    <tr>\n",
       "      <th>2</th>\n",
       "      <td>46659.0</td>\n",
       "      <td>2.0</td>\n",
       "    </tr>\n",
       "    <tr>\n",
       "      <th>3</th>\n",
       "      <td>40233.0</td>\n",
       "      <td>1.0</td>\n",
       "    </tr>\n",
       "    <tr>\n",
       "      <th>4</th>\n",
       "      <td>42198.0</td>\n",
       "      <td>1.0</td>\n",
       "    </tr>\n",
       "  </tbody>\n",
       "</table>\n",
       "</div>"
      ],
      "text/plain": [
       "    salary  position\n",
       "0  57727.0       2.0\n",
       "1  39907.0       1.0\n",
       "2  46659.0       2.0\n",
       "3  40233.0       1.0\n",
       "4  42198.0       1.0"
      ]
     },
     "execution_count": 6,
     "metadata": {},
     "output_type": "execute_result"
    }
   ],
   "source": [
    "df_data.head()"
   ]
  },
  {
   "cell_type": "markdown",
   "metadata": {},
   "source": [
    "## 2.Cálculo de la diferencia significativa "
   ]
  },
  {
   "cell_type": "code",
   "execution_count": 8,
   "metadata": {},
   "outputs": [
    {
     "data": {
      "text/html": [
       "<div>\n",
       "<style scoped>\n",
       "    .dataframe tbody tr th:only-of-type {\n",
       "        vertical-align: middle;\n",
       "    }\n",
       "\n",
       "    .dataframe tbody tr th {\n",
       "        vertical-align: top;\n",
       "    }\n",
       "\n",
       "    .dataframe thead th {\n",
       "        text-align: right;\n",
       "    }\n",
       "</style>\n",
       "<table border=\"1\" class=\"dataframe\">\n",
       "  <thead>\n",
       "    <tr style=\"text-align: right;\">\n",
       "      <th></th>\n",
       "      <th>salary</th>\n",
       "      <th>position</th>\n",
       "    </tr>\n",
       "  </thead>\n",
       "  <tbody>\n",
       "    <tr>\n",
       "      <th>1</th>\n",
       "      <td>39907.0</td>\n",
       "      <td>1.0</td>\n",
       "    </tr>\n",
       "    <tr>\n",
       "      <th>3</th>\n",
       "      <td>40233.0</td>\n",
       "      <td>1.0</td>\n",
       "    </tr>\n",
       "    <tr>\n",
       "      <th>4</th>\n",
       "      <td>42198.0</td>\n",
       "      <td>1.0</td>\n",
       "    </tr>\n",
       "    <tr>\n",
       "      <th>6</th>\n",
       "      <td>40324.0</td>\n",
       "      <td>1.0</td>\n",
       "    </tr>\n",
       "    <tr>\n",
       "      <th>8</th>\n",
       "      <td>36792.0</td>\n",
       "      <td>1.0</td>\n",
       "    </tr>\n",
       "  </tbody>\n",
       "</table>\n",
       "</div>"
      ],
      "text/plain": [
       "    salary  position\n",
       "1  39907.0       1.0\n",
       "3  40233.0       1.0\n",
       "4  42198.0       1.0\n",
       "6  40324.0       1.0\n",
       "8  36792.0       1.0"
      ]
     },
     "execution_count": 8,
     "metadata": {},
     "output_type": "execute_result"
    }
   ],
   "source": [
    "group1=df_data[df_data.position==1.0]\n",
    "group2=df_data[df_data.position==2.0]\n",
    "group1.head()"
   ]
  },
  {
   "cell_type": "markdown",
   "metadata": {},
   "source": [
    "### Pregunta 1: ¿Cobran significativamente menos el grupo1 frente al 2?\n"
   ]
  },
  {
   "cell_type": "code",
   "execution_count": 28,
   "metadata": {},
   "outputs": [
    {
     "name": "stdout",
     "output_type": "stream",
     "text": [
      "Para un p_value= 0.0014136360455584039\n",
      "Se rechaza la hipótesis nula, podemos asumir diferencias significativas\n"
     ]
    }
   ],
   "source": [
    "#Aplicación de la prueba MannWhitneyu\n",
    "#Utilizamos como alternativa \"less\" porque queremos saber si el grupo1 cobra significativamente\n",
    "#menos que el grupo 2\n",
    "stat, p_value = mannwhitneyu(group1.salary, group2.salary,alternative='less')\n",
    "\n",
    "p_value_thresh=0.05\n",
    "checkho(p_value_thresh, p_value)"
   ]
  },
  {
   "cell_type": "markdown",
   "metadata": {},
   "source": [
    "**Explicación**: Como rechazamos la Ho (No hay diferecias siginificativa) y como la **alternativa** es 'less'; la conclusión es que el grupo 1 cobra significativamente menos que el grupo 2"
   ]
  },
  {
   "cell_type": "markdown",
   "metadata": {},
   "source": [
    "### Pregunta 2: ¿Cobran significativamente menos el grupo2 frente al 1?\n"
   ]
  },
  {
   "cell_type": "code",
   "execution_count": 29,
   "metadata": {},
   "outputs": [
    {
     "name": "stdout",
     "output_type": "stream",
     "text": [
      "Para un p_value= 0.9988988900287514\n",
      "Se acepta la hipótesis nula, no podemos asumir diferencias significativas\n"
     ]
    }
   ],
   "source": [
    "#Aplicación de la prueba MannWhitneyu\n",
    "#Utilizamos como alternativa \"less\" porque queremos saber si el grupo1 cobra significativamente\n",
    "#menos que el grupo 2\n",
    "stat, p_value = mannwhitneyu(group2.salary, group1.salary,alternative='less')\n",
    "\n",
    "p_value_thresh=0.05\n",
    "checkho(p_value_thresh, p_value)"
   ]
  },
  {
   "cell_type": "markdown",
   "metadata": {},
   "source": [
    "**Explicación**: Como no rechazamos la Ho (Ho=No hay diferecias siginificativa) y como la **alternativa** es 'less'; la conclusión es que el grupo 2 no cobra significativamente menos que el grupo 1"
   ]
  },
  {
   "cell_type": "markdown",
   "metadata": {},
   "source": [
    "### Pregunta 3: ¿Hay diferencia significativa entre lo que cobra el grupo2 frente al 1?\n"
   ]
  },
  {
   "cell_type": "code",
   "execution_count": 32,
   "metadata": {},
   "outputs": [
    {
     "name": "stdout",
     "output_type": "stream",
     "text": [
      "Para un p_value= 0.0028272720911168077\n",
      "Se rechaza la hipótesis nula, podemos asumir diferencias significativas\n"
     ]
    }
   ],
   "source": [
    "#Aplicación de la prueba MannWhitneyu\n",
    "#Utilizamos como alternativa \"less\" porque queremos saber si el grupo1 cobra significativamente\n",
    "#menos que el grupo 2\n",
    "stat, p_value = mannwhitneyu(group2.salary, group1.salary,alternative='two-sided')\n",
    "\n",
    "p_value_thresh=0.05\n",
    "checkho(p_value_thresh, p_value)"
   ]
  },
  {
   "cell_type": "markdown",
   "metadata": {},
   "source": [
    "**Explicación**: Como no rechazamos la Ho (Ho=No hay diferecias siginificativa) y como la **alternativa** es 'two-sided'; la conclusión es que encontramos diferencias significativas entre lo que cobran ambos grupos, pero no sabemos quien cobra más o menos."
   ]
  },
  {
   "cell_type": "markdown",
   "metadata": {},
   "source": [
    "### Pregunta 4: ¿Cobra significativamente más el grupo2 frente al 1?"
   ]
  },
  {
   "cell_type": "code",
   "execution_count": 33,
   "metadata": {},
   "outputs": [
    {
     "name": "stdout",
     "output_type": "stream",
     "text": [
      "Para un p_value= 0.0014136360455584039\n",
      "Se rechaza la hipótesis nula, podemos asumir diferencias significativas\n"
     ]
    }
   ],
   "source": [
    "#Aplicación de la prueba MannWhitneyu\n",
    "#Utilizamos como alternativa \"less\" porque queremos saber si el grupo1 cobra significativamente\n",
    "#menos que el grupo 2\n",
    "stat, p_value = mannwhitneyu(group2.salary, group1.salary,alternative='greater')\n",
    "\n",
    "p_value_thresh=0.05\n",
    "checkho(p_value_thresh, p_value)"
   ]
  },
  {
   "cell_type": "markdown",
   "metadata": {},
   "source": [
    "**Explicación**: Como no rechazamos la Ho (Ho=No hay diferecias siginificativa) y como la **alternativa** es 'greater'; la conclusión es que encontramos diferencias significativas entre lo que cobran ambos grupos, concretamente se cumple que el grupo 2 cobra significativamente más que el grupo 1."
   ]
  }
 ],
 "metadata": {
  "kernelspec": {
   "display_name": "Python 3",
   "language": "python",
   "name": "python3"
  },
  "language_info": {
   "codemirror_mode": {
    "name": "ipython",
    "version": 3
   },
   "file_extension": ".py",
   "mimetype": "text/x-python",
   "name": "python",
   "nbconvert_exporter": "python",
   "pygments_lexer": "ipython3",
   "version": "3.7.1"
  }
 },
 "nbformat": 4,
 "nbformat_minor": 2
}
