{
 "cells": [
  {
   "cell_type": "markdown",
   "metadata": {},
   "source": [
    "# Prueba de Friedman\n",
    "\n",
    "### Objeto\n",
    "\n",
    "Comparar 3 o más muestras para determinar si en el al menos en alguna existen diferencias significativas.\n",
    "No indica en cual de la o las muestras existe tales diferencia. Se aplica Wilcozon por pares para determinar donde se encuentran la diferencia.\n",
    "\n",
    "Restricciones:\n",
    "* La distribución es **NO paramétrica**\n",
    "* Los grupos son **No son independientes**\n",
    "    * Relacionadas\n",
    "    * Repetidas\n",
    "    * Pareadas\n",
    "\n",
    "Ho: No hay diferencia significativa;\n",
    "\n",
    "H1: Hay diferencia\n",
    "\n",
    "<a href=\"https://docs.scipy.org/doc/scipy/reference/generated/scipy.stats.friedmanchisquare.html?highlight=friedmanchisquare#scipy.stats.friedmanchisquare\">Scypy Friedman</a>"
   ]
  },
  {
   "cell_type": "markdown",
   "metadata": {},
   "source": [
    "## 0.Preparación librerias y definición de fórmulas# "
   ]
  },
  {
   "cell_type": "code",
   "execution_count": 1,
   "metadata": {},
   "outputs": [],
   "source": [
    "import numpy as np\n",
    "import pandas as pd\n",
    "import matplotlib.pyplot as plt\n",
    "import seaborn as sns\n",
    "from scipy import stats\n",
    "from scipy.stats import friedmanchisquare\n",
    "from scipy.stats import wilcoxon\n",
    "import warnings\n",
    "warnings.filterwarnings(\"ignore\")"
   ]
  },
  {
   "cell_type": "code",
   "execution_count": 4,
   "metadata": {},
   "outputs": [],
   "source": [
    "#Comprobación de Ho\n",
    "\n",
    "def checkho(p_value_thresh, p_value):\n",
    "    print(\"Para un p_value=\",p_value)\n",
    "    if p_value < p_value_thresh:\n",
    "        print('Se rechaza la hipótesis nula, podemos asumir diferencias significativas')\n",
    "    else:\n",
    "        print('Se acepta la hipótesis nula, no podemos asumir diferencias significativas')"
   ]
  },
  {
   "cell_type": "code",
   "execution_count": 161,
   "metadata": {},
   "outputs": [],
   "source": [
    "#Calculo factorial\n",
    "def factorial(n):\n",
    "    if n<=1:\n",
    "        return 1\n",
    "    return n*factorial(n-1) \n",
    "\n"
   ]
  },
  {
   "cell_type": "code",
   "execution_count": 159,
   "metadata": {},
   "outputs": [],
   "source": [
    "# Bonferroni:\n",
    "def bonf (n):\n",
    "    B =factorial(n)/(factorial(2)*factorial(n-2))\n",
    "    return B"
   ]
  },
  {
   "cell_type": "markdown",
   "metadata": {},
   "source": [
    "## 1.Preanalisis de los datos"
   ]
  },
  {
   "cell_type": "code",
   "execution_count": 2,
   "metadata": {},
   "outputs": [],
   "source": [
    "file = './Datos/wine.csv'"
   ]
  },
  {
   "cell_type": "code",
   "execution_count": 3,
   "metadata": {},
   "outputs": [],
   "source": [
    "# Carga de datos\n",
    "df_data=pd.read_csv(file)"
   ]
  },
  {
   "cell_type": "code",
   "execution_count": 6,
   "metadata": {},
   "outputs": [
    {
     "name": "stdout",
     "output_type": "stream",
     "text": [
      "<class 'pandas.core.frame.DataFrame'>\n",
      "RangeIndex: 10 entries, 0 to 9\n",
      "Data columns (total 6 columns):\n",
      "Judge            10 non-null float64\n",
      "pinecreek        10 non-null float64\n",
      "saintjude        10 non-null float64\n",
      "northnapa        10 non-null float64\n",
      "sevenwinds       10 non-null float64\n",
      "eternalvalley    10 non-null float64\n",
      "dtypes: float64(6)\n",
      "memory usage: 560.0 bytes\n",
      "None\n"
     ]
    },
    {
     "data": {
      "text/html": [
       "<div>\n",
       "<style scoped>\n",
       "    .dataframe tbody tr th:only-of-type {\n",
       "        vertical-align: middle;\n",
       "    }\n",
       "\n",
       "    .dataframe tbody tr th {\n",
       "        vertical-align: top;\n",
       "    }\n",
       "\n",
       "    .dataframe thead th {\n",
       "        text-align: right;\n",
       "    }\n",
       "</style>\n",
       "<table border=\"1\" class=\"dataframe\">\n",
       "  <thead>\n",
       "    <tr style=\"text-align: right;\">\n",
       "      <th></th>\n",
       "      <th>Judge</th>\n",
       "      <th>pinecreek</th>\n",
       "      <th>saintjude</th>\n",
       "      <th>northnapa</th>\n",
       "      <th>sevenwinds</th>\n",
       "      <th>eternalvalley</th>\n",
       "    </tr>\n",
       "  </thead>\n",
       "  <tbody>\n",
       "    <tr>\n",
       "      <th>0</th>\n",
       "      <td>1.0</td>\n",
       "      <td>6.0</td>\n",
       "      <td>3.0</td>\n",
       "      <td>3.0</td>\n",
       "      <td>5.0</td>\n",
       "      <td>3.0</td>\n",
       "    </tr>\n",
       "    <tr>\n",
       "      <th>1</th>\n",
       "      <td>2.0</td>\n",
       "      <td>7.0</td>\n",
       "      <td>4.0</td>\n",
       "      <td>4.0</td>\n",
       "      <td>4.0</td>\n",
       "      <td>4.0</td>\n",
       "    </tr>\n",
       "    <tr>\n",
       "      <th>2</th>\n",
       "      <td>3.0</td>\n",
       "      <td>6.0</td>\n",
       "      <td>5.0</td>\n",
       "      <td>4.0</td>\n",
       "      <td>5.0</td>\n",
       "      <td>3.0</td>\n",
       "    </tr>\n",
       "    <tr>\n",
       "      <th>3</th>\n",
       "      <td>4.0</td>\n",
       "      <td>7.0</td>\n",
       "      <td>3.0</td>\n",
       "      <td>2.0</td>\n",
       "      <td>4.0</td>\n",
       "      <td>2.0</td>\n",
       "    </tr>\n",
       "    <tr>\n",
       "      <th>4</th>\n",
       "      <td>5.0</td>\n",
       "      <td>5.0</td>\n",
       "      <td>4.0</td>\n",
       "      <td>3.0</td>\n",
       "      <td>4.0</td>\n",
       "      <td>4.0</td>\n",
       "    </tr>\n",
       "  </tbody>\n",
       "</table>\n",
       "</div>"
      ],
      "text/plain": [
       "   Judge  pinecreek  saintjude  northnapa  sevenwinds  eternalvalley\n",
       "0    1.0        6.0        3.0        3.0         5.0            3.0\n",
       "1    2.0        7.0        4.0        4.0         4.0            4.0\n",
       "2    3.0        6.0        5.0        4.0         5.0            3.0\n",
       "3    4.0        7.0        3.0        2.0         4.0            2.0\n",
       "4    5.0        5.0        4.0        3.0         4.0            4.0"
      ]
     },
     "execution_count": 6,
     "metadata": {},
     "output_type": "execute_result"
    }
   ],
   "source": [
    "\n",
    "print(df_data.info())\n",
    "df_data.head()"
   ]
  },
  {
   "cell_type": "code",
   "execution_count": null,
   "metadata": {},
   "outputs": [],
   "source": []
  },
  {
   "cell_type": "markdown",
   "metadata": {},
   "source": [
    " ## 2.Comparando todo los grupos con Firedman¶"
   ]
  },
  {
   "cell_type": "code",
   "execution_count": 8,
   "metadata": {},
   "outputs": [
    {
     "name": "stdout",
     "output_type": "stream",
     "text": [
      "Statistics=29.893, p=0.000\n",
      "Rechazamos H0: Hay diferencias significativas entre los grupos.\n"
     ]
    }
   ],
   "source": [
    "\n",
    "stat, p = friedmanchisquare(df_data.pinecreek, df_data.saintjude, df_data.northnapa, df_data.sevenwinds, df_data.eternalvalley)\n",
    "print('Statistics=%.3f, p=%.3f' % (stat, p))\n",
    "# interpretación\n",
    "alpha = 0.05\n",
    "if p > alpha:\n",
    "\tprint('No rechazamos H0: No hay diferencias significativas entre los grupos.')\n",
    "else:\n",
    "\tprint('Rechazamos H0: Hay diferencias significativas entre los grupos.')"
   ]
  }
 ],
 "metadata": {
  "kernelspec": {
   "display_name": "Python 3",
   "language": "python",
   "name": "python3"
  },
  "language_info": {
   "codemirror_mode": {
    "name": "ipython",
    "version": 3
   },
   "file_extension": ".py",
   "mimetype": "text/x-python",
   "name": "python",
   "nbconvert_exporter": "python",
   "pygments_lexer": "ipython3",
   "version": "3.7.1"
  }
 },
 "nbformat": 4,
 "nbformat_minor": 2
}
