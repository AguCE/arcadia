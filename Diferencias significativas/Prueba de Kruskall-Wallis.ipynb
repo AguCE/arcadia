{
 "cells": [
  {
   "cell_type": "markdown",
   "metadata": {},
   "source": [
    "# Prueba de Kruskall-Wallis\n",
    "\n",
    "### Objeto\n",
    "\n",
    "Comparar 3 o más muestras para determinar si en el al menos en alguna existen diferencias significativas.\n",
    "No indica en cual de la o las muestras existe tales diferencia. Se aplica Mann-Whitney por pares para determinar donde se encuentran la diferencia.\n",
    "\n",
    "Restricciones:\n",
    "* La distribución es **NO paramétrica**\n",
    "* Los grupos son **independientes**\n",
    "* Los datos son ordinales o coninuos\n",
    "\n",
    "Ho: No hay diferencia significativa;\n",
    "\n",
    "H1: Hay diferencia\n",
    "\n",
    "<a href=\"https://docs.scipy.org/doc/scipy/reference/generated/scipy.stats.kruskal.html\">Scypy Kruskal</a>"
   ]
  },
  {
   "cell_type": "markdown",
   "metadata": {},
   "source": [
    "## 0.Preparación librerias y definición de fórmulas# "
   ]
  },
  {
   "cell_type": "code",
   "execution_count": 169,
   "metadata": {},
   "outputs": [],
   "source": [
    "#Importacion\n",
    "import pandas as pd\n",
    "import matplotlib.pyplot as plt\n",
    "import seaborn as sns\n",
    "from scipy import stats\n",
    "from scipy.stats import mannwhitneyu\n",
    "from statsmodels.stats.diagnostic import normal_ad\n",
    "from scipy.stats import kruskal"
   ]
  },
  {
   "cell_type": "code",
   "execution_count": 4,
   "metadata": {},
   "outputs": [],
   "source": [
    "#Comprobación de Ho\n",
    "\n",
    "def checkho(p_value_thresh, p_value):\n",
    "    print(\"Para un p_value=\",p_value)\n",
    "    if p_value < p_value_thresh:\n",
    "        print('Se rechaza la hipótesis nula, podemos asumir diferencias significativas')\n",
    "    else:\n",
    "        print('Se acepta la hipótesis nula, no podemos asumir diferencias significativas')"
   ]
  },
  {
   "cell_type": "code",
   "execution_count": 161,
   "metadata": {},
   "outputs": [],
   "source": [
    "#Calculo factorial\n",
    "def factorial(n):\n",
    "    if n<=1:\n",
    "        return 1\n",
    "    return n*factorial(n-1) \n",
    "\n"
   ]
  },
  {
   "cell_type": "code",
   "execution_count": 159,
   "metadata": {},
   "outputs": [],
   "source": [
    "# Bonferroni:\n",
    "def bonf (n):\n",
    "    B =factorial(n)/(factorial(2)*factorial(n-2))\n",
    "    return B"
   ]
  },
  {
   "cell_type": "code",
   "execution_count": 164,
   "metadata": {},
   "outputs": [],
   "source": [
    "def compare_manwhitney(data,value, alpha,b):\n",
    "    #Calculate alpha according to Bonferroni (b)\n",
    "    alpha_new = alpha/b\n",
    "    #To identify de unique values in the category\n",
    "    test_list = data[value].unique()\n",
    "    #To create all the possible couples\n",
    "    res = [(a, b) for idx, a in enumerate(test_list) for b in test_list[idx + 1:]] \n",
    "    print('alpha corregida',alpha_new)\n",
    "    #To calculate MannWhitney p-values from all the pairs\n",
    "    for i in range(len(res)):\n",
    "        group1=data[data[value]==res[i][0]]\n",
    "        group2=data[data[value]==res[i][1]]\n",
    "        # 'two-sided' alternative is choosen because we don´t know if the significance difference is bigger or smaller\n",
    "        stat, p = mannwhitneyu(group1.rating, group2.rating,alternative='two-sided')\n",
    "        print(res[i])\n",
    "        print('      p-value:', p)\n",
    "        if p > alpha_new:\n",
    "            print('      No rechazamos H0: No hay diferencias significativas entre los grupos', res[i])\n",
    "        else:\n",
    "            print('      Rechazamos H0: Hay diferencias significativas entre los grupos', res[i])\n",
    "        "
   ]
  },
  {
   "cell_type": "markdown",
   "metadata": {},
   "source": [
    "## 1.Preanalisis de los datos"
   ]
  },
  {
   "cell_type": "code",
   "execution_count": 1,
   "metadata": {},
   "outputs": [],
   "source": [
    "file = './Datos/drugstudy.csv'"
   ]
  },
  {
   "cell_type": "code",
   "execution_count": 4,
   "metadata": {},
   "outputs": [],
   "source": [
    "# Carga de datos\n",
    "df_data=pd.read_csv(file)"
   ]
  },
  {
   "cell_type": "code",
   "execution_count": 6,
   "metadata": {},
   "outputs": [
    {
     "data": {
      "text/html": [
       "<div>\n",
       "<style scoped>\n",
       "    .dataframe tbody tr th:only-of-type {\n",
       "        vertical-align: middle;\n",
       "    }\n",
       "\n",
       "    .dataframe tbody tr th {\n",
       "        vertical-align: top;\n",
       "    }\n",
       "\n",
       "    .dataframe thead th {\n",
       "        text-align: right;\n",
       "    }\n",
       "</style>\n",
       "<table border=\"1\" class=\"dataframe\">\n",
       "  <thead>\n",
       "    <tr style=\"text-align: right;\">\n",
       "      <th></th>\n",
       "      <th>dose</th>\n",
       "      <th>rating</th>\n",
       "    </tr>\n",
       "  </thead>\n",
       "  <tbody>\n",
       "    <tr>\n",
       "      <th>0</th>\n",
       "      <td>1.0</td>\n",
       "      <td>6.0</td>\n",
       "    </tr>\n",
       "    <tr>\n",
       "      <th>1</th>\n",
       "      <td>1.0</td>\n",
       "      <td>4.0</td>\n",
       "    </tr>\n",
       "    <tr>\n",
       "      <th>2</th>\n",
       "      <td>1.0</td>\n",
       "      <td>6.0</td>\n",
       "    </tr>\n",
       "    <tr>\n",
       "      <th>3</th>\n",
       "      <td>1.0</td>\n",
       "      <td>5.0</td>\n",
       "    </tr>\n",
       "    <tr>\n",
       "      <th>4</th>\n",
       "      <td>1.0</td>\n",
       "      <td>4.0</td>\n",
       "    </tr>\n",
       "  </tbody>\n",
       "</table>\n",
       "</div>"
      ],
      "text/plain": [
       "   dose  rating\n",
       "0   1.0     6.0\n",
       "1   1.0     4.0\n",
       "2   1.0     6.0\n",
       "3   1.0     5.0\n",
       "4   1.0     4.0"
      ]
     },
     "execution_count": 6,
     "metadata": {},
     "output_type": "execute_result"
    }
   ],
   "source": [
    "df_data.head()"
   ]
  },
  {
   "cell_type": "markdown",
   "metadata": {},
   "source": [
    " ## 2.Comparando todo lso grupos con la prueba Kruskal-Wallis¶\n",
    "\n",
    "Con la prueba de Kruskal-Wallis comprobamos si entre todos los grupos exisen diferencias significativas"
   ]
  },
  {
   "cell_type": "code",
   "execution_count": 157,
   "metadata": {},
   "outputs": [
    {
     "data": {
      "text/plain": [
       "4"
      ]
     },
     "execution_count": 157,
     "metadata": {},
     "output_type": "execute_result"
    }
   ],
   "source": [
    "num_categories = len(df_data.dose.unique())\n",
    "num_categories"
   ]
  },
  {
   "cell_type": "code",
   "execution_count": 167,
   "metadata": {},
   "outputs": [],
   "source": [
    "group1=df_data[df_data.dose==1.0]\n",
    "group2=df_data[df_data.dose==2.0]\n",
    "group3=df_data[df_data.dose==3.0]\n",
    "group4=df_data[df_data.dose==4.0]"
   ]
  },
  {
   "cell_type": "code",
   "execution_count": 223,
   "metadata": {},
   "outputs": [
    {
     "name": "stdout",
     "output_type": "stream",
     "text": [
      "Statistics=298.284, p=0.000\n",
      "Rechazamos H0: Hay diferencias significativas entre los grupos.\n"
     ]
    }
   ],
   "source": [
    "stat, p = kruskal (group1, group2, group3, group4)\n",
    "print('Statistics=%.3f, p=%.3f' % (stat, p))\n",
    "# Interpretación\n",
    "alpha = 0.05\n",
    "if p > alpha:\n",
    "\tprint('No rechazamos H0: No hay diferencias significativas entre los grupos.')\n",
    "else:\n",
    "\tprint('Rechazamos H0: Hay diferencias significativas entre los grupos.')"
   ]
  },
  {
   "cell_type": "markdown",
   "metadata": {},
   "source": [
    "## 3.Comparación de pares de grupos con la prueba Mann-Whitney\n",
    "\n",
    "Con Mann-Whitney a través de las comparaciones de pares vamos a encontrar donde hay diferencias significativas"
   ]
  },
  {
   "cell_type": "code",
   "execution_count": 165,
   "metadata": {},
   "outputs": [
    {
     "data": {
      "text/plain": [
       "6.0"
      ]
     },
     "execution_count": 165,
     "metadata": {},
     "output_type": "execute_result"
    }
   ],
   "source": [
    "b=bonf(num_categories)\n",
    "b"
   ]
  },
  {
   "cell_type": "code",
   "execution_count": 163,
   "metadata": {},
   "outputs": [
    {
     "name": "stdout",
     "output_type": "stream",
     "text": [
      "alpha corregida 0.008333333333333333\n",
      "(1.0, 2.0)\n",
      "      p-value: 0.009911377465815045\n",
      "      No rechazamos H0: No hay diferencias significativas entre los grupos (1.0, 2.0)\n",
      "(1.0, 3.0)\n",
      "      p-value: 0.00039457325940790667\n",
      "      Rechazamos H0: Hay diferencias significativas entre los grupos (1.0, 3.0)\n",
      "(1.0, 4.0)\n",
      "      p-value: 0.0010607936166658369\n",
      "      Rechazamos H0: Hay diferencias significativas entre los grupos (1.0, 4.0)\n",
      "(2.0, 3.0)\n",
      "      p-value: 0.07441228142144751\n",
      "      No rechazamos H0: No hay diferencias significativas entre los grupos (2.0, 3.0)\n",
      "(2.0, 4.0)\n",
      "      p-value: 0.09993509549720665\n",
      "      No rechazamos H0: No hay diferencias significativas entre los grupos (2.0, 4.0)\n",
      "(3.0, 4.0)\n",
      "      p-value: 1.0\n",
      "      No rechazamos H0: No hay diferencias significativas entre los grupos (3.0, 4.0)\n"
     ]
    }
   ],
   "source": [
    "compare_manwhitney(df_data, 'dose', 0.05,6)"
   ]
  }
 ],
 "metadata": {
  "kernelspec": {
   "display_name": "Python 3",
   "language": "python",
   "name": "python3"
  },
  "language_info": {
   "codemirror_mode": {
    "name": "ipython",
    "version": 3
   },
   "file_extension": ".py",
   "mimetype": "text/x-python",
   "name": "python",
   "nbconvert_exporter": "python",
   "pygments_lexer": "ipython3",
   "version": "3.7.1"
  }
 },
 "nbformat": 4,
 "nbformat_minor": 2
}
